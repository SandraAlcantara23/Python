{
 "cells": [
  {
   "cell_type": "markdown",
   "id": "fe2d81d5-09f3-4ec6-96ae-a9c9d242b3c9",
   "metadata": {},
   "source": [
    "# introduccion a Numpy"
   ]
  },
  {
   "cell_type": "markdown",
   "id": "06960bbf-2730-45e5-b482-fdc32db06d91",
   "metadata": {},
   "source": [
    "[Numpy](https://numpy.org/doc/stable/)  es una biblioteca fundamental para la computacion cientifica con python \n",
    "* proporciona arrays N-dimencionales\n",
    "* implementa funciones sofisticadas\n",
    "* proporciona herramientas para integrar c/c++ y fortran\n",
    "* proporciona mecanismos para facilitar la realizaacion de tareas relacionadas con algebra lineal o numeros aleatorios"
   ]
  },
  {
   "cell_type": "markdown",
   "id": "4689bbdf-efa1-4277-8a4c-e0d805acd1f2",
   "metadata": {},
   "source": [
    "## imports"
   ]
  },
  {
   "cell_type": "code",
   "execution_count": 1,
   "id": "76c25f8a-08bb-4835-83c9-e3c8ffdec51f",
   "metadata": {},
   "outputs": [],
   "source": [
    "import numpy as np"
   ]
  },
  {
   "cell_type": "markdown",
   "id": "fc89af89-3446-4a70-bad2-9dd6fd75dc00",
   "metadata": {},
   "source": [
    "## Arrays"
   ]
  },
  {
   "cell_type": "markdown",
   "id": "36e54beb-bc16-4282-9a1a-87bd9b8358a7",
   "metadata": {},
   "source": [
    "un **array** es una estructura de datos que consiste en una coleccion de elementos (valores o variables), cada uno identificado por almenos un indice o clave. un array se almacena de modo que la posicion de cada elemento se pueda calcular atraves de su tupla de indice mediante una formula matematica. el tipo mas simple es un array lineal, tambien llamado array unidimencional."
   ]
  },
  {
   "cell_type": "markdown",
   "id": "7c277aee-a15d-425b-8a75-8da65fe839bc",
   "metadata": {},
   "source": [
    "en numpy:\n",
    "* cada dimecion se denomina **axis**.\n",
    "* el numero de dimenciones se denomina **rank**.\n",
    "* la lista de dimenciones con su correspondiente longitud se denomina **shape**\n",
    "* el numero total de elementos que es la multiplicacion de la longitud de las dimenciones se denomina **size**."
   ]
  },
  {
   "cell_type": "code",
   "execution_count": 2,
   "id": "e41b3a97-3ada-4e15-b1d0-77e20e362519",
   "metadata": {},
   "outputs": [],
   "source": [
    "# Array cuyos valores son todos 0\n",
    "a = np.zeros((2,4))"
   ]
  },
  {
   "cell_type": "code",
   "execution_count": 3,
   "id": "4e8e3f40-d5f9-4836-a759-ca16cea53bc9",
   "metadata": {},
   "outputs": [
    {
     "data": {
      "text/plain": [
       "array([[0., 0., 0., 0.],\n",
       "       [0., 0., 0., 0.]])"
      ]
     },
     "execution_count": 3,
     "metadata": {},
     "output_type": "execute_result"
    }
   ],
   "source": [
    "a"
   ]
  },
  {
   "cell_type": "markdown",
   "id": "8bc17642-6c73-466a-bfb1-5c099fc4d249",
   "metadata": {},
   "source": [
    "_**a**_ es un array:\n",
    "* con dos **axis**, el primero de longitud 2 y el segundo de longitud 4.\n",
    "* con un **rank** igual a 2\n",
    "* con un **shape** igual (2, 4)\n",
    "* con un **size** igual a 8"
   ]
  },
  {
   "cell_type": "code",
   "execution_count": 4,
   "id": "6ab640df-41c2-4226-ab2b-98f6f189130d",
   "metadata": {},
   "outputs": [
    {
     "data": {
      "text/plain": [
       "(2, 4)"
      ]
     },
     "execution_count": 4,
     "metadata": {},
     "output_type": "execute_result"
    }
   ],
   "source": [
    "a.shape"
   ]
  },
  {
   "cell_type": "code",
   "execution_count": 5,
   "id": "3e32775a-9ea2-44b9-b60b-a44223f050f1",
   "metadata": {},
   "outputs": [
    {
     "data": {
      "text/plain": [
       "2"
      ]
     },
     "execution_count": 5,
     "metadata": {},
     "output_type": "execute_result"
    }
   ],
   "source": [
    "a.ndim"
   ]
  },
  {
   "cell_type": "code",
   "execution_count": 6,
   "id": "771461c3-5c8d-4af7-8616-1df136c38ffd",
   "metadata": {},
   "outputs": [
    {
     "data": {
      "text/plain": [
       "8"
      ]
     },
     "execution_count": 6,
     "metadata": {},
     "output_type": "execute_result"
    }
   ],
   "source": [
    "a.size"
   ]
  },
  {
   "cell_type": "markdown",
   "id": "6ea6ba5f-90d5-41db-bfa0-26d1f0928ebd",
   "metadata": {},
   "source": [
    "## creacion de Arrays"
   ]
  },
  {
   "cell_type": "code",
   "execution_count": 7,
   "id": "c63acfd6-c011-4166-bcf0-bc33afe11854",
   "metadata": {},
   "outputs": [
    {
     "data": {
      "text/plain": [
       "array([[[0., 0., 0., 0.],\n",
       "        [0., 0., 0., 0.],\n",
       "        [0., 0., 0., 0.]],\n",
       "\n",
       "       [[0., 0., 0., 0.],\n",
       "        [0., 0., 0., 0.],\n",
       "        [0., 0., 0., 0.]]])"
      ]
     },
     "execution_count": 7,
     "metadata": {},
     "output_type": "execute_result"
    }
   ],
   "source": [
    "# Array cuyos valores son todos 0\n",
    "np.zeros((2, 3, 4))"
   ]
  },
  {
   "cell_type": "code",
   "execution_count": 8,
   "id": "8e413f11-def8-4a22-a5d7-3cba76205057",
   "metadata": {},
   "outputs": [
    {
     "data": {
      "text/plain": [
       "array([[[1., 1., 1., 1.],\n",
       "        [1., 1., 1., 1.],\n",
       "        [1., 1., 1., 1.]],\n",
       "\n",
       "       [[1., 1., 1., 1.],\n",
       "        [1., 1., 1., 1.],\n",
       "        [1., 1., 1., 1.]]])"
      ]
     },
     "execution_count": 8,
     "metadata": {},
     "output_type": "execute_result"
    }
   ],
   "source": [
    "# Array cuyos valores son todos 1.\n",
    "np.ones((2, 3, 4))"
   ]
  },
  {
   "cell_type": "code",
   "execution_count": 9,
   "id": "04c855ae-e9e2-4c77-9e5e-eeccc3f911df",
   "metadata": {},
   "outputs": [
    {
     "data": {
      "text/plain": [
       "array([[[8, 8, 8, 8],\n",
       "        [8, 8, 8, 8],\n",
       "        [8, 8, 8, 8]],\n",
       "\n",
       "       [[8, 8, 8, 8],\n",
       "        [8, 8, 8, 8],\n",
       "        [8, 8, 8, 8]]])"
      ]
     },
     "execution_count": 9,
     "metadata": {},
     "output_type": "execute_result"
    }
   ],
   "source": [
    "# array cuyos valores son todos el valor indicado como segundo parametro de la funcion\n",
    "np.full((2, 3, 4), 8)"
   ]
  },
  {
   "cell_type": "code",
   "execution_count": 10,
   "id": "76462d47-a905-4a5c-954e-a7a9e3fab60c",
   "metadata": {},
   "outputs": [
    {
     "data": {
      "text/plain": [
       "array([[[0., 0., 0., 0., 0., 0., 0., 0., 0.],\n",
       "        [0., 0., 0., 0., 0., 0., 0., 0., 0.],\n",
       "        [0., 0., 0., 0., 0., 0., 0., 0., 0.]],\n",
       "\n",
       "       [[0., 0., 0., 0., 0., 0., 0., 0., 0.],\n",
       "        [0., 0., 0., 0., 0., 0., 0., 0., 0.],\n",
       "        [0., 0., 0., 0., 0., 0., 0., 0., 0.]]])"
      ]
     },
     "execution_count": 10,
     "metadata": {},
     "output_type": "execute_result"
    }
   ],
   "source": [
    "# el resultado de np. empty no es predecible \n",
    "# inicializa los valores del array con lo que haya en la memoria en ese momento\n",
    "np.empty((2, 3, 9))"
   ]
  },
  {
   "cell_type": "code",
   "execution_count": 11,
   "id": "b0ca9867-d6b4-44ea-acbe-84bba2d239ef",
   "metadata": {},
   "outputs": [
    {
     "data": {
      "text/plain": [
       "array([[1, 2, 3],\n",
       "       [4, 5, 6]])"
      ]
     },
     "execution_count": 11,
     "metadata": {},
     "output_type": "execute_result"
    }
   ],
   "source": [
    "# incializacion del array utilizando un array de python\n",
    "b= np.array([[1, 2, 3,], [4, 5, 6]])\n",
    "b"
   ]
  },
  {
   "cell_type": "code",
   "execution_count": 12,
   "id": "52b11491-f933-40f6-8d8e-8e116b181b77",
   "metadata": {},
   "outputs": [
    {
     "data": {
      "text/plain": [
       "(2, 3)"
      ]
     },
     "execution_count": 12,
     "metadata": {},
     "output_type": "execute_result"
    }
   ],
   "source": [
    "b.shape"
   ]
  }
 ],
 "metadata": {
  "kernelspec": {
   "display_name": "Python 3 (ipykernel)",
   "language": "python",
   "name": "python3"
  },
  "language_info": {
   "codemirror_mode": {
    "name": "ipython",
    "version": 3
   },
   "file_extension": ".py",
   "mimetype": "text/x-python",
   "name": "python",
   "nbconvert_exporter": "python",
   "pygments_lexer": "ipython3",
   "version": "3.9.19"
  }
 },
 "nbformat": 4,
 "nbformat_minor": 5
}

{
 "cells": [
  {
   "cell_type": "code",
   "execution_count": 1,
   "id": "cb07f68d-fc6a-4a77-afc2-117d07416a62",
   "metadata": {},
   "outputs": [
    {
     "name": "stdin",
     "output_type": "stream",
     "text": [
      "Adivina el número:  4\n"
     ]
    },
    {
     "name": "stdout",
     "output_type": "stream",
     "text": [
      "Inténtalo de nuevo.\n"
     ]
    }
   ],
   "source": [
    "numero_secreto = 7\n",
    "adivinanza = int(input(\"Adivina el número: \"))\n",
    "if adivinanza == numero_secreto:\n",
    "    print(\"¡Acertaste!\")\n",
    "else:\n",
    "    print(\"Inténtalo de nuevo.\")"
   ]
  },
  {
   "cell_type": "code",
   "execution_count": null,
   "id": "13d718dd-9eb5-4b31-8b65-61360a96760a",
   "metadata": {},
   "outputs": [],
   "source": []
  }
 ],
 "metadata": {
  "kernelspec": {
   "display_name": "Python 3 (ipykernel)",
   "language": "python",
   "name": "python3"
  },
  "language_info": {
   "codemirror_mode": {
    "name": "ipython",
    "version": 3
   },
   "file_extension": ".py",
   "mimetype": "text/x-python",
   "name": "python",
   "nbconvert_exporter": "python",
   "pygments_lexer": "ipython3",
   "version": "3.12.4"
  }
 },
 "nbformat": 4,
 "nbformat_minor": 5
}

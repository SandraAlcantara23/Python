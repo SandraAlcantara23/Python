{
 "cells": [
  {
   "cell_type": "code",
   "execution_count": 1,
   "id": "e623d2d0-35a3-4d54-967f-a2325bd85bfd",
   "metadata": {},
   "outputs": [
    {
     "name": "stdout",
     "output_type": "stream",
     "text": [
      "Hola mundo\n"
     ]
    }
   ],
   "source": [
    "print(\"Hola mundo\")"
   ]
  },
  {
   "cell_type": "code",
   "execution_count": 3,
   "id": "56c9aa83-18d1-49d9-a9c6-cf62a755d508",
   "metadata": {},
   "outputs": [
    {
     "name": "stdout",
     "output_type": "stream",
     "text": [
      "Suma: 9\n",
      "Multiplicacion: 20\n"
     ]
    }
   ],
   "source": [
    "numero1 = 5\n",
    "numero2 = 4\n",
    "suma = numero1 + numero2\n",
    "multiplicacion = numero1 * numero2\n",
    "print(\"Suma:\", suma)\n",
    "print(\"Multiplicacion:\", multiplicacion)"
   ]
  },
  {
   "cell_type": "code",
   "execution_count": null,
   "id": "83039045-7ba1-4ff4-91c8-8092fc522eab",
   "metadata": {},
   "outputs": [],
   "source": []
  }
 ],
 "metadata": {
  "kernelspec": {
   "display_name": "Python 3 (ipykernel)",
   "language": "python",
   "name": "python3"
  },
  "language_info": {
   "codemirror_mode": {
    "name": "ipython",
    "version": 3
   },
   "file_extension": ".py",
   "mimetype": "text/x-python",
   "name": "python",
   "nbconvert_exporter": "python",
   "pygments_lexer": "ipython3",
   "version": "3.12.4"
  }
 },
 "nbformat": 4,
 "nbformat_minor": 5
}
